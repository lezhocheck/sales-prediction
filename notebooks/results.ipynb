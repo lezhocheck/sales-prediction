{
 "cells": [
  {
   "cell_type": "code",
   "execution_count": 1,
   "metadata": {},
   "outputs": [],
   "source": [
    "import sys\n",
    "\n",
    "sys.path.append('..')"
   ]
  },
  {
   "cell_type": "code",
   "execution_count": 2,
   "metadata": {},
   "outputs": [],
   "source": [
    "from src.dataset import DatasetGenerator"
   ]
  },
  {
   "cell_type": "code",
   "execution_count": 7,
   "metadata": {},
   "outputs": [],
   "source": [
    "generator = DatasetGenerator('../data/df.csv', generate_lags=False)"
   ]
  },
  {
   "cell_type": "code",
   "execution_count": 8,
   "metadata": {},
   "outputs": [
    {
     "data": {
      "text/html": [
       "<div><style>\n",
       ".dataframe > thead > tr,\n",
       ".dataframe > tbody > tr {\n",
       "  text-align: right;\n",
       "  white-space: pre-wrap;\n",
       "}\n",
       "</style>\n",
       "<small>shape: (226_043, 12)</small><table border=\"1\" class=\"dataframe\"><thead><tr><th>category_id</th><th>sku_id</th><th>sales_price</th><th>sales_quantity</th><th>year</th><th>month</th><th>day</th><th>weekday</th><th>is_ukrainian_holiday</th><th>sma_5_sales_price</th><th>sma_5_sales_quantity</th><th>cluster_id</th></tr><tr><td>i64</td><td>i64</td><td>f64</td><td>f64</td><td>i32</td><td>i8</td><td>i8</td><td>i8</td><td>bool</td><td>f64</td><td>f64</td><td>i32</td></tr></thead><tbody><tr><td>17</td><td>440334</td><td>36.855</td><td>8.0</td><td>2017</td><td>7</td><td>3</td><td>1</td><td>false</td><td>34.005113</td><td>577.8</td><td>2</td></tr><tr><td>17</td><td>666510</td><td>52.0</td><td>3.0</td><td>2018</td><td>11</td><td>30</td><td>5</td><td>false</td><td>46.074853</td><td>569.0</td><td>2</td></tr><tr><td>17</td><td>750485</td><td>47.775</td><td>9.0</td><td>2018</td><td>9</td><td>1</td><td>6</td><td>false</td><td>43.921791</td><td>669.6</td><td>2</td></tr><tr><td>17</td><td>759845</td><td>46.8</td><td>9.0</td><td>2019</td><td>3</td><td>20</td><td>3</td><td>false</td><td>49.572991</td><td>591.4</td><td>4</td></tr><tr><td>17</td><td>721362</td><td>32.76</td><td>10.0</td><td>2017</td><td>9</td><td>28</td><td>4</td><td>false</td><td>35.808695</td><td>508.8</td><td>2</td></tr><tr><td>&hellip;</td><td>&hellip;</td><td>&hellip;</td><td>&hellip;</td><td>&hellip;</td><td>&hellip;</td><td>&hellip;</td><td>&hellip;</td><td>&hellip;</td><td>&hellip;</td><td>&hellip;</td><td>&hellip;</td></tr><tr><td>7</td><td>484590</td><td>219.7</td><td>2.0</td><td>2018</td><td>7</td><td>7</td><td>6</td><td>false</td><td>306.89496</td><td>35.6</td><td>3</td></tr><tr><td>17</td><td>24118</td><td>68.25</td><td>9.0</td><td>2020</td><td>6</td><td>25</td><td>4</td><td>false</td><td>64.270271</td><td>611.0</td><td>4</td></tr><tr><td>17</td><td>8220</td><td>65.0</td><td>12.0</td><td>2019</td><td>11</td><td>29</td><td>5</td><td>false</td><td>56.992558</td><td>519.4</td><td>0</td></tr><tr><td>7</td><td>718571</td><td>258.7</td><td>1.0</td><td>2019</td><td>1</td><td>7</td><td>1</td><td>false</td><td>278.629334</td><td>84.8</td><td>3</td></tr><tr><td>7</td><td>437395</td><td>266.5</td><td>1.0</td><td>2018</td><td>5</td><td>24</td><td>4</td><td>false</td><td>297.506073</td><td>36.4</td><td>3</td></tr></tbody></table></div>"
      ],
      "text/plain": [
       "shape: (226_043, 12)\n",
       "┌────────────┬────────┬────────────┬───────────┬───┬───────────┬───────────┬───────────┬───────────┐\n",
       "│ category_i ┆ sku_id ┆ sales_pric ┆ sales_qua ┆ … ┆ is_ukrain ┆ sma_5_sal ┆ sma_5_sal ┆ cluster_i │\n",
       "│ d          ┆ ---    ┆ e          ┆ ntity     ┆   ┆ ian_holid ┆ es_price  ┆ es_quanti ┆ d         │\n",
       "│ ---        ┆ i64    ┆ ---        ┆ ---       ┆   ┆ ay        ┆ ---       ┆ ty        ┆ ---       │\n",
       "│ i64        ┆        ┆ f64        ┆ f64       ┆   ┆ ---       ┆ f64       ┆ ---       ┆ i32       │\n",
       "│            ┆        ┆            ┆           ┆   ┆ bool      ┆           ┆ f64       ┆           │\n",
       "╞════════════╪════════╪════════════╪═══════════╪═══╪═══════════╪═══════════╪═══════════╪═══════════╡\n",
       "│ 17         ┆ 440334 ┆ 36.855     ┆ 8.0       ┆ … ┆ false     ┆ 34.005113 ┆ 577.8     ┆ 2         │\n",
       "│ 17         ┆ 666510 ┆ 52.0       ┆ 3.0       ┆ … ┆ false     ┆ 46.074853 ┆ 569.0     ┆ 2         │\n",
       "│ 17         ┆ 750485 ┆ 47.775     ┆ 9.0       ┆ … ┆ false     ┆ 43.921791 ┆ 669.6     ┆ 2         │\n",
       "│ 17         ┆ 759845 ┆ 46.8       ┆ 9.0       ┆ … ┆ false     ┆ 49.572991 ┆ 591.4     ┆ 4         │\n",
       "│ 17         ┆ 721362 ┆ 32.76      ┆ 10.0      ┆ … ┆ false     ┆ 35.808695 ┆ 508.8     ┆ 2         │\n",
       "│ …          ┆ …      ┆ …          ┆ …         ┆ … ┆ …         ┆ …         ┆ …         ┆ …         │\n",
       "│ 7          ┆ 484590 ┆ 219.7      ┆ 2.0       ┆ … ┆ false     ┆ 306.89496 ┆ 35.6      ┆ 3         │\n",
       "│ 17         ┆ 24118  ┆ 68.25      ┆ 9.0       ┆ … ┆ false     ┆ 64.270271 ┆ 611.0     ┆ 4         │\n",
       "│ 17         ┆ 8220   ┆ 65.0       ┆ 12.0      ┆ … ┆ false     ┆ 56.992558 ┆ 519.4     ┆ 0         │\n",
       "│ 7          ┆ 718571 ┆ 258.7      ┆ 1.0       ┆ … ┆ false     ┆ 278.62933 ┆ 84.8      ┆ 3         │\n",
       "│            ┆        ┆            ┆           ┆   ┆           ┆ 4         ┆           ┆           │\n",
       "│ 7          ┆ 437395 ┆ 266.5      ┆ 1.0       ┆ … ┆ false     ┆ 297.50607 ┆ 36.4      ┆ 3         │\n",
       "│            ┆        ┆            ┆           ┆   ┆           ┆ 3         ┆           ┆           │\n",
       "└────────────┴────────┴────────────┴───────────┴───┴───────────┴───────────┴───────────┴───────────┘"
      ]
     },
     "execution_count": 8,
     "metadata": {},
     "output_type": "execute_result"
    }
   ],
   "source": [
    "generator._data"
   ]
  }
 ],
 "metadata": {
  "kernelspec": {
   "display_name": "sales-prediction",
   "language": "python",
   "name": "python3"
  },
  "language_info": {
   "codemirror_mode": {
    "name": "ipython",
    "version": 3
   },
   "file_extension": ".py",
   "mimetype": "text/x-python",
   "name": "python",
   "nbconvert_exporter": "python",
   "pygments_lexer": "ipython3",
   "version": "3.11.9"
  }
 },
 "nbformat": 4,
 "nbformat_minor": 2
}
