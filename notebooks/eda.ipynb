{
 "cells": [
  {
   "cell_type": "code",
   "execution_count": 3,
   "metadata": {},
   "outputs": [],
   "source": [
    "import polars as pl\n",
    "from typing import Final"
   ]
  },
  {
   "cell_type": "code",
   "execution_count": 7,
   "metadata": {},
   "outputs": [],
   "source": [
    "DATA_PATH = '../data/df.csv'"
   ]
  },
  {
   "cell_type": "code",
   "execution_count": 15,
   "metadata": {},
   "outputs": [
    {
     "data": {
      "text/html": [
       "<div><style>\n",
       ".dataframe > thead > tr,\n",
       ".dataframe > tbody > tr {\n",
       "  text-align: right;\n",
       "  white-space: pre-wrap;\n",
       "}\n",
       "</style>\n",
       "<small>shape: (5, 5)</small><table border=\"1\" class=\"dataframe\"><thead><tr><th>date</th><th>category_id</th><th>sku_id</th><th>sales_price</th><th>sales_quantity</th></tr><tr><td>str</td><td>i64</td><td>i64</td><td>f64</td><td>f64</td></tr></thead><tbody><tr><td>&quot;2016-11-25&quot;</td><td>7</td><td>1108</td><td>457.6</td><td>1.0</td></tr><tr><td>&quot;2016-11-18&quot;</td><td>7</td><td>2999</td><td>470.6</td><td>1.0</td></tr><tr><td>&quot;2016-11-18&quot;</td><td>7</td><td>1428</td><td>717.6</td><td>1.0</td></tr><tr><td>&quot;2016-11-18&quot;</td><td>7</td><td>3923</td><td>383.5</td><td>1.0</td></tr><tr><td>&quot;2016-11-18&quot;</td><td>17</td><td>8075</td><td>18.85</td><td>2.0</td></tr></tbody></table></div>"
      ],
      "text/plain": [
       "shape: (5, 5)\n",
       "┌────────────┬─────────────┬────────┬─────────────┬────────────────┐\n",
       "│ date       ┆ category_id ┆ sku_id ┆ sales_price ┆ sales_quantity │\n",
       "│ ---        ┆ ---         ┆ ---    ┆ ---         ┆ ---            │\n",
       "│ str        ┆ i64         ┆ i64    ┆ f64         ┆ f64            │\n",
       "╞════════════╪═════════════╪════════╪═════════════╪════════════════╡\n",
       "│ 2016-11-25 ┆ 7           ┆ 1108   ┆ 457.6       ┆ 1.0            │\n",
       "│ 2016-11-18 ┆ 7           ┆ 2999   ┆ 470.6       ┆ 1.0            │\n",
       "│ 2016-11-18 ┆ 7           ┆ 1428   ┆ 717.6       ┆ 1.0            │\n",
       "│ 2016-11-18 ┆ 7           ┆ 3923   ┆ 383.5       ┆ 1.0            │\n",
       "│ 2016-11-18 ┆ 17          ┆ 8075   ┆ 18.85       ┆ 2.0            │\n",
       "└────────────┴─────────────┴────────┴─────────────┴────────────────┘"
      ]
     },
     "execution_count": 15,
     "metadata": {},
     "output_type": "execute_result"
    }
   ],
   "source": [
    "data = pl.read_csv(\n",
    "    DATA_PATH, \n",
    "    columns=['date', 'category_id', 'sku_id', 'sales_price', 'sales_quantity']\n",
    ")\n",
    "data.head()"
   ]
  },
  {
   "cell_type": "code",
   "execution_count": null,
   "metadata": {},
   "outputs": [],
   "source": []
  }
 ],
 "metadata": {
  "kernelspec": {
   "display_name": "sales-prediction",
   "language": "python",
   "name": "python3"
  },
  "language_info": {
   "codemirror_mode": {
    "name": "ipython",
    "version": 3
   },
   "file_extension": ".py",
   "mimetype": "text/x-python",
   "name": "python",
   "nbconvert_exporter": "python",
   "pygments_lexer": "ipython3",
   "version": "3.11.9"
  }
 },
 "nbformat": 4,
 "nbformat_minor": 2
}
