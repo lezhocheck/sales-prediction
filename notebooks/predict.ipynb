{
 "cells": [
  {
   "cell_type": "markdown",
   "metadata": {},
   "source": [
    "# Predictions"
   ]
  },
  {
   "cell_type": "code",
   "execution_count": 1,
   "metadata": {},
   "outputs": [],
   "source": [
    "import sys\n",
    "\n",
    "sys.path.append('..')"
   ]
  },
  {
   "cell_type": "code",
   "execution_count": 2,
   "metadata": {},
   "outputs": [],
   "source": [
    "import polars as pl\n",
    "from typing import Dict, Any\n",
    "from src.dataset import DatasetGenerator\n",
    "from src.model import RandomForestPredictor, LgbmPredictor\n",
    "from tqdm import tqdm"
   ]
  },
  {
   "cell_type": "code",
   "execution_count": 3,
   "metadata": {},
   "outputs": [],
   "source": [
    "generator = DatasetGenerator('../data/df.csv')"
   ]
  },
  {
   "cell_type": "markdown",
   "metadata": {},
   "source": [
    "### RandomForest model"
   ]
  },
  {
   "cell_type": "code",
   "execution_count": 4,
   "metadata": {},
   "outputs": [],
   "source": [
    "(X_train, y_train), (X_test, y_test) = generator.split_train_test()\n",
    "predictor = RandomForestPredictor('../checkpoints/rf.pkl')"
   ]
  },
  {
   "cell_type": "markdown",
   "metadata": {},
   "source": [
    "Firstly, let's train RandomForestPredictor"
   ]
  },
  {
   "cell_type": "code",
   "execution_count": 65,
   "metadata": {},
   "outputs": [
    {
     "name": "stdout",
     "output_type": "stream",
     "text": [
      "Model already trained. Skipping...\n"
     ]
    }
   ],
   "source": [
    "predictor.train(X_train, y_train)"
   ]
  },
  {
   "cell_type": "code",
   "execution_count": 7,
   "metadata": {},
   "outputs": [
    {
     "name": "stdout",
     "output_type": "stream",
     "text": [
      "Overriding /Users/lezhocheck/Documents/projects/sales-prediction/checkpoints/rf.pkl\n"
     ]
    }
   ],
   "source": [
    "predictor.save('../checkpoints/rf.pkl')"
   ]
  },
  {
   "cell_type": "code",
   "execution_count": 8,
   "metadata": {},
   "outputs": [
    {
     "ename": "KeyboardInterrupt",
     "evalue": "",
     "output_type": "error",
     "traceback": [
      "\u001b[0;31m---------------------------------------------------------------------------\u001b[0m",
      "\u001b[0;31mKeyboardInterrupt\u001b[0m                         Traceback (most recent call last)",
      "Cell \u001b[0;32mIn[8], line 1\u001b[0m\n\u001b[0;32m----> 1\u001b[0m \u001b[43mpredictor\u001b[49m\u001b[38;5;241;43m.\u001b[39;49m\u001b[43meval\u001b[49m\u001b[43m(\u001b[49m\u001b[43mX_train\u001b[49m\u001b[43m,\u001b[49m\u001b[43m \u001b[49m\u001b[43my_train\u001b[49m\u001b[43m,\u001b[49m\u001b[43m \u001b[49m\u001b[43mapply_cv\u001b[49m\u001b[38;5;241;43m=\u001b[39;49m\u001b[38;5;28;43;01mTrue\u001b[39;49;00m\u001b[43m)\u001b[49m\n",
      "File \u001b[0;32m~/Documents/projects/sales-prediction/notebooks/../src/model.py:62\u001b[0m, in \u001b[0;36mPredictor.eval\u001b[0;34m(self, X, y, apply_cv)\u001b[0m\n\u001b[1;32m     60\u001b[0m     \u001b[38;5;28;01mraise\u001b[39;00m \u001b[38;5;167;01mValueError\u001b[39;00m(\u001b[38;5;124m'\u001b[39m\u001b[38;5;124mModel was not fitted\u001b[39m\u001b[38;5;124m'\u001b[39m)\n\u001b[1;32m     61\u001b[0m \u001b[38;5;28;01mif\u001b[39;00m apply_cv:\n\u001b[0;32m---> 62\u001b[0m     scores \u001b[38;5;241m=\u001b[39m \u001b[43mcross_validate\u001b[49m\u001b[43m(\u001b[49m\u001b[38;5;28;43mself\u001b[39;49m\u001b[38;5;241;43m.\u001b[39;49m\u001b[43m_estimator\u001b[49m\u001b[43m,\u001b[49m\u001b[43m \u001b[49m\u001b[43mX\u001b[49m\u001b[43m,\u001b[49m\u001b[43m \u001b[49m\u001b[43my\u001b[49m\u001b[43m,\u001b[49m\u001b[43m \u001b[49m\u001b[43mcv\u001b[49m\u001b[38;5;241;43m=\u001b[39;49m\u001b[38;5;241;43m3\u001b[39;49m\u001b[43m,\u001b[49m\u001b[43m \u001b[49m\u001b[43mn_jobs\u001b[49m\u001b[38;5;241;43m=\u001b[39;49m\u001b[38;5;241;43m-\u001b[39;49m\u001b[38;5;241;43m1\u001b[39;49m\u001b[43m,\u001b[49m\u001b[43m \u001b[49m\u001b[43mscoring\u001b[49m\u001b[38;5;241;43m=\u001b[39;49m\u001b[43m[\u001b[49m\n\u001b[1;32m     63\u001b[0m \u001b[43m        \u001b[49m\u001b[38;5;124;43m'\u001b[39;49m\u001b[38;5;124;43mneg_root_mean_squared_error\u001b[39;49m\u001b[38;5;124;43m'\u001b[39;49m\u001b[43m,\u001b[49m\u001b[43m \u001b[49m\n\u001b[1;32m     64\u001b[0m \u001b[43m        \u001b[49m\u001b[38;5;124;43m'\u001b[39;49m\u001b[38;5;124;43mneg_mean_absolute_error\u001b[39;49m\u001b[38;5;124;43m'\u001b[39;49m\u001b[43m,\u001b[49m\n\u001b[1;32m     65\u001b[0m \u001b[43m        \u001b[49m\u001b[38;5;124;43m'\u001b[39;49m\u001b[38;5;124;43mexplained_variance\u001b[39;49m\u001b[38;5;124;43m'\u001b[39;49m\u001b[43m,\u001b[49m\n\u001b[1;32m     66\u001b[0m \u001b[43m    \u001b[49m\u001b[43m]\u001b[49m\u001b[43m)\u001b[49m\n\u001b[1;32m     67\u001b[0m     \u001b[38;5;28;01mreturn\u001b[39;00m {k: np\u001b[38;5;241m.\u001b[39mmean(v) \u001b[38;5;28;01mfor\u001b[39;00m k, v \u001b[38;5;129;01min\u001b[39;00m scores\u001b[38;5;241m.\u001b[39mitems() \u001b[38;5;28;01mif\u001b[39;00m \u001b[38;5;129;01mnot\u001b[39;00m k\u001b[38;5;241m.\u001b[39mendswith(\u001b[38;5;124m'\u001b[39m\u001b[38;5;124mtime\u001b[39m\u001b[38;5;124m'\u001b[39m)}\n\u001b[1;32m     68\u001b[0m predicted \u001b[38;5;241m=\u001b[39m \u001b[38;5;28mself\u001b[39m\u001b[38;5;241m.\u001b[39m_estimator\u001b[38;5;241m.\u001b[39mpredict(X)\n",
      "File \u001b[0;32m~/miniconda3/envs/sales-prediction/lib/python3.11/site-packages/sklearn/utils/_param_validation.py:213\u001b[0m, in \u001b[0;36mvalidate_params.<locals>.decorator.<locals>.wrapper\u001b[0;34m(*args, **kwargs)\u001b[0m\n\u001b[1;32m    207\u001b[0m \u001b[38;5;28;01mtry\u001b[39;00m:\n\u001b[1;32m    208\u001b[0m     \u001b[38;5;28;01mwith\u001b[39;00m config_context(\n\u001b[1;32m    209\u001b[0m         skip_parameter_validation\u001b[38;5;241m=\u001b[39m(\n\u001b[1;32m    210\u001b[0m             prefer_skip_nested_validation \u001b[38;5;129;01mor\u001b[39;00m global_skip_validation\n\u001b[1;32m    211\u001b[0m         )\n\u001b[1;32m    212\u001b[0m     ):\n\u001b[0;32m--> 213\u001b[0m         \u001b[38;5;28;01mreturn\u001b[39;00m \u001b[43mfunc\u001b[49m\u001b[43m(\u001b[49m\u001b[38;5;241;43m*\u001b[39;49m\u001b[43margs\u001b[49m\u001b[43m,\u001b[49m\u001b[43m \u001b[49m\u001b[38;5;241;43m*\u001b[39;49m\u001b[38;5;241;43m*\u001b[39;49m\u001b[43mkwargs\u001b[49m\u001b[43m)\u001b[49m\n\u001b[1;32m    214\u001b[0m \u001b[38;5;28;01mexcept\u001b[39;00m InvalidParameterError \u001b[38;5;28;01mas\u001b[39;00m e:\n\u001b[1;32m    215\u001b[0m     \u001b[38;5;66;03m# When the function is just a wrapper around an estimator, we allow\u001b[39;00m\n\u001b[1;32m    216\u001b[0m     \u001b[38;5;66;03m# the function to delegate validation to the estimator, but we replace\u001b[39;00m\n\u001b[1;32m    217\u001b[0m     \u001b[38;5;66;03m# the name of the estimator by the name of the function in the error\u001b[39;00m\n\u001b[1;32m    218\u001b[0m     \u001b[38;5;66;03m# message to avoid confusion.\u001b[39;00m\n\u001b[1;32m    219\u001b[0m     msg \u001b[38;5;241m=\u001b[39m re\u001b[38;5;241m.\u001b[39msub(\n\u001b[1;32m    220\u001b[0m         \u001b[38;5;124mr\u001b[39m\u001b[38;5;124m\"\u001b[39m\u001b[38;5;124mparameter of \u001b[39m\u001b[38;5;124m\\\u001b[39m\u001b[38;5;124mw+ must be\u001b[39m\u001b[38;5;124m\"\u001b[39m,\n\u001b[1;32m    221\u001b[0m         \u001b[38;5;124mf\u001b[39m\u001b[38;5;124m\"\u001b[39m\u001b[38;5;124mparameter of \u001b[39m\u001b[38;5;132;01m{\u001b[39;00mfunc\u001b[38;5;241m.\u001b[39m\u001b[38;5;18m__qualname__\u001b[39m\u001b[38;5;132;01m}\u001b[39;00m\u001b[38;5;124m must be\u001b[39m\u001b[38;5;124m\"\u001b[39m,\n\u001b[1;32m    222\u001b[0m         \u001b[38;5;28mstr\u001b[39m(e),\n\u001b[1;32m    223\u001b[0m     )\n",
      "File \u001b[0;32m~/miniconda3/envs/sales-prediction/lib/python3.11/site-packages/sklearn/model_selection/_validation.py:423\u001b[0m, in \u001b[0;36mcross_validate\u001b[0;34m(estimator, X, y, groups, scoring, cv, n_jobs, verbose, fit_params, params, pre_dispatch, return_train_score, return_estimator, return_indices, error_score)\u001b[0m\n\u001b[1;32m    420\u001b[0m \u001b[38;5;66;03m# We clone the estimator to make sure that all the folds are\u001b[39;00m\n\u001b[1;32m    421\u001b[0m \u001b[38;5;66;03m# independent, and that it is pickle-able.\u001b[39;00m\n\u001b[1;32m    422\u001b[0m parallel \u001b[38;5;241m=\u001b[39m Parallel(n_jobs\u001b[38;5;241m=\u001b[39mn_jobs, verbose\u001b[38;5;241m=\u001b[39mverbose, pre_dispatch\u001b[38;5;241m=\u001b[39mpre_dispatch)\n\u001b[0;32m--> 423\u001b[0m results \u001b[38;5;241m=\u001b[39m \u001b[43mparallel\u001b[49m\u001b[43m(\u001b[49m\n\u001b[1;32m    424\u001b[0m \u001b[43m    \u001b[49m\u001b[43mdelayed\u001b[49m\u001b[43m(\u001b[49m\u001b[43m_fit_and_score\u001b[49m\u001b[43m)\u001b[49m\u001b[43m(\u001b[49m\n\u001b[1;32m    425\u001b[0m \u001b[43m        \u001b[49m\u001b[43mclone\u001b[49m\u001b[43m(\u001b[49m\u001b[43mestimator\u001b[49m\u001b[43m)\u001b[49m\u001b[43m,\u001b[49m\n\u001b[1;32m    426\u001b[0m \u001b[43m        \u001b[49m\u001b[43mX\u001b[49m\u001b[43m,\u001b[49m\n\u001b[1;32m    427\u001b[0m \u001b[43m        \u001b[49m\u001b[43my\u001b[49m\u001b[43m,\u001b[49m\n\u001b[1;32m    428\u001b[0m \u001b[43m        \u001b[49m\u001b[43mscorer\u001b[49m\u001b[38;5;241;43m=\u001b[39;49m\u001b[43mscorers\u001b[49m\u001b[43m,\u001b[49m\n\u001b[1;32m    429\u001b[0m \u001b[43m        \u001b[49m\u001b[43mtrain\u001b[49m\u001b[38;5;241;43m=\u001b[39;49m\u001b[43mtrain\u001b[49m\u001b[43m,\u001b[49m\n\u001b[1;32m    430\u001b[0m \u001b[43m        \u001b[49m\u001b[43mtest\u001b[49m\u001b[38;5;241;43m=\u001b[39;49m\u001b[43mtest\u001b[49m\u001b[43m,\u001b[49m\n\u001b[1;32m    431\u001b[0m \u001b[43m        \u001b[49m\u001b[43mverbose\u001b[49m\u001b[38;5;241;43m=\u001b[39;49m\u001b[43mverbose\u001b[49m\u001b[43m,\u001b[49m\n\u001b[1;32m    432\u001b[0m \u001b[43m        \u001b[49m\u001b[43mparameters\u001b[49m\u001b[38;5;241;43m=\u001b[39;49m\u001b[38;5;28;43;01mNone\u001b[39;49;00m\u001b[43m,\u001b[49m\n\u001b[1;32m    433\u001b[0m \u001b[43m        \u001b[49m\u001b[43mfit_params\u001b[49m\u001b[38;5;241;43m=\u001b[39;49m\u001b[43mrouted_params\u001b[49m\u001b[38;5;241;43m.\u001b[39;49m\u001b[43mestimator\u001b[49m\u001b[38;5;241;43m.\u001b[39;49m\u001b[43mfit\u001b[49m\u001b[43m,\u001b[49m\n\u001b[1;32m    434\u001b[0m \u001b[43m        \u001b[49m\u001b[43mscore_params\u001b[49m\u001b[38;5;241;43m=\u001b[39;49m\u001b[43mrouted_params\u001b[49m\u001b[38;5;241;43m.\u001b[39;49m\u001b[43mscorer\u001b[49m\u001b[38;5;241;43m.\u001b[39;49m\u001b[43mscore\u001b[49m\u001b[43m,\u001b[49m\n\u001b[1;32m    435\u001b[0m \u001b[43m        \u001b[49m\u001b[43mreturn_train_score\u001b[49m\u001b[38;5;241;43m=\u001b[39;49m\u001b[43mreturn_train_score\u001b[49m\u001b[43m,\u001b[49m\n\u001b[1;32m    436\u001b[0m \u001b[43m        \u001b[49m\u001b[43mreturn_times\u001b[49m\u001b[38;5;241;43m=\u001b[39;49m\u001b[38;5;28;43;01mTrue\u001b[39;49;00m\u001b[43m,\u001b[49m\n\u001b[1;32m    437\u001b[0m \u001b[43m        \u001b[49m\u001b[43mreturn_estimator\u001b[49m\u001b[38;5;241;43m=\u001b[39;49m\u001b[43mreturn_estimator\u001b[49m\u001b[43m,\u001b[49m\n\u001b[1;32m    438\u001b[0m \u001b[43m        \u001b[49m\u001b[43merror_score\u001b[49m\u001b[38;5;241;43m=\u001b[39;49m\u001b[43merror_score\u001b[49m\u001b[43m,\u001b[49m\n\u001b[1;32m    439\u001b[0m \u001b[43m    \u001b[49m\u001b[43m)\u001b[49m\n\u001b[1;32m    440\u001b[0m \u001b[43m    \u001b[49m\u001b[38;5;28;43;01mfor\u001b[39;49;00m\u001b[43m \u001b[49m\u001b[43mtrain\u001b[49m\u001b[43m,\u001b[49m\u001b[43m \u001b[49m\u001b[43mtest\u001b[49m\u001b[43m \u001b[49m\u001b[38;5;129;43;01min\u001b[39;49;00m\u001b[43m \u001b[49m\u001b[43mindices\u001b[49m\n\u001b[1;32m    441\u001b[0m \u001b[43m\u001b[49m\u001b[43m)\u001b[49m\n\u001b[1;32m    443\u001b[0m _warn_or_raise_about_fit_failures(results, error_score)\n\u001b[1;32m    445\u001b[0m \u001b[38;5;66;03m# For callable scoring, the return type is only know after calling. If the\u001b[39;00m\n\u001b[1;32m    446\u001b[0m \u001b[38;5;66;03m# return type is a dictionary, the error scores can now be inserted with\u001b[39;00m\n\u001b[1;32m    447\u001b[0m \u001b[38;5;66;03m# the correct key.\u001b[39;00m\n",
      "File \u001b[0;32m~/miniconda3/envs/sales-prediction/lib/python3.11/site-packages/sklearn/utils/parallel.py:67\u001b[0m, in \u001b[0;36mParallel.__call__\u001b[0;34m(self, iterable)\u001b[0m\n\u001b[1;32m     62\u001b[0m config \u001b[38;5;241m=\u001b[39m get_config()\n\u001b[1;32m     63\u001b[0m iterable_with_config \u001b[38;5;241m=\u001b[39m (\n\u001b[1;32m     64\u001b[0m     (_with_config(delayed_func, config), args, kwargs)\n\u001b[1;32m     65\u001b[0m     \u001b[38;5;28;01mfor\u001b[39;00m delayed_func, args, kwargs \u001b[38;5;129;01min\u001b[39;00m iterable\n\u001b[1;32m     66\u001b[0m )\n\u001b[0;32m---> 67\u001b[0m \u001b[38;5;28;01mreturn\u001b[39;00m \u001b[38;5;28;43msuper\u001b[39;49m\u001b[43m(\u001b[49m\u001b[43m)\u001b[49m\u001b[38;5;241;43m.\u001b[39;49m\u001b[38;5;21;43m__call__\u001b[39;49m\u001b[43m(\u001b[49m\u001b[43miterable_with_config\u001b[49m\u001b[43m)\u001b[49m\n",
      "File \u001b[0;32m~/miniconda3/envs/sales-prediction/lib/python3.11/site-packages/joblib/parallel.py:2007\u001b[0m, in \u001b[0;36mParallel.__call__\u001b[0;34m(self, iterable)\u001b[0m\n\u001b[1;32m   2001\u001b[0m \u001b[38;5;66;03m# The first item from the output is blank, but it makes the interpreter\u001b[39;00m\n\u001b[1;32m   2002\u001b[0m \u001b[38;5;66;03m# progress until it enters the Try/Except block of the generator and\u001b[39;00m\n\u001b[1;32m   2003\u001b[0m \u001b[38;5;66;03m# reaches the first `yield` statement. This starts the asynchronous\u001b[39;00m\n\u001b[1;32m   2004\u001b[0m \u001b[38;5;66;03m# dispatch of the tasks to the workers.\u001b[39;00m\n\u001b[1;32m   2005\u001b[0m \u001b[38;5;28mnext\u001b[39m(output)\n\u001b[0;32m-> 2007\u001b[0m \u001b[38;5;28;01mreturn\u001b[39;00m output \u001b[38;5;28;01mif\u001b[39;00m \u001b[38;5;28mself\u001b[39m\u001b[38;5;241m.\u001b[39mreturn_generator \u001b[38;5;28;01melse\u001b[39;00m \u001b[38;5;28mlist\u001b[39m(output)\n",
      "File \u001b[0;32m~/miniconda3/envs/sales-prediction/lib/python3.11/site-packages/joblib/parallel.py:1650\u001b[0m, in \u001b[0;36mParallel._get_outputs\u001b[0;34m(self, iterator, pre_dispatch)\u001b[0m\n\u001b[1;32m   1647\u001b[0m     \u001b[38;5;28;01myield\u001b[39;00m\n\u001b[1;32m   1649\u001b[0m     \u001b[38;5;28;01mwith\u001b[39;00m \u001b[38;5;28mself\u001b[39m\u001b[38;5;241m.\u001b[39m_backend\u001b[38;5;241m.\u001b[39mretrieval_context():\n\u001b[0;32m-> 1650\u001b[0m         \u001b[38;5;28;01myield from\u001b[39;00m \u001b[38;5;28mself\u001b[39m\u001b[38;5;241m.\u001b[39m_retrieve()\n\u001b[1;32m   1652\u001b[0m \u001b[38;5;28;01mexcept\u001b[39;00m \u001b[38;5;167;01mGeneratorExit\u001b[39;00m:\n\u001b[1;32m   1653\u001b[0m     \u001b[38;5;66;03m# The generator has been garbage collected before being fully\u001b[39;00m\n\u001b[1;32m   1654\u001b[0m     \u001b[38;5;66;03m# consumed. This aborts the remaining tasks if possible and warn\u001b[39;00m\n\u001b[1;32m   1655\u001b[0m     \u001b[38;5;66;03m# the user if necessary.\u001b[39;00m\n\u001b[1;32m   1656\u001b[0m     \u001b[38;5;28mself\u001b[39m\u001b[38;5;241m.\u001b[39m_exception \u001b[38;5;241m=\u001b[39m \u001b[38;5;28;01mTrue\u001b[39;00m\n",
      "File \u001b[0;32m~/miniconda3/envs/sales-prediction/lib/python3.11/site-packages/joblib/parallel.py:1762\u001b[0m, in \u001b[0;36mParallel._retrieve\u001b[0;34m(self)\u001b[0m\n\u001b[1;32m   1757\u001b[0m \u001b[38;5;66;03m# If the next job is not ready for retrieval yet, we just wait for\u001b[39;00m\n\u001b[1;32m   1758\u001b[0m \u001b[38;5;66;03m# async callbacks to progress.\u001b[39;00m\n\u001b[1;32m   1759\u001b[0m \u001b[38;5;28;01mif\u001b[39;00m ((\u001b[38;5;28mlen\u001b[39m(\u001b[38;5;28mself\u001b[39m\u001b[38;5;241m.\u001b[39m_jobs) \u001b[38;5;241m==\u001b[39m \u001b[38;5;241m0\u001b[39m) \u001b[38;5;129;01mor\u001b[39;00m\n\u001b[1;32m   1760\u001b[0m     (\u001b[38;5;28mself\u001b[39m\u001b[38;5;241m.\u001b[39m_jobs[\u001b[38;5;241m0\u001b[39m]\u001b[38;5;241m.\u001b[39mget_status(\n\u001b[1;32m   1761\u001b[0m         timeout\u001b[38;5;241m=\u001b[39m\u001b[38;5;28mself\u001b[39m\u001b[38;5;241m.\u001b[39mtimeout) \u001b[38;5;241m==\u001b[39m TASK_PENDING)):\n\u001b[0;32m-> 1762\u001b[0m     time\u001b[38;5;241m.\u001b[39msleep(\u001b[38;5;241m0.01\u001b[39m)\n\u001b[1;32m   1763\u001b[0m     \u001b[38;5;28;01mcontinue\u001b[39;00m\n\u001b[1;32m   1765\u001b[0m \u001b[38;5;66;03m# We need to be careful: the job list can be filling up as\u001b[39;00m\n\u001b[1;32m   1766\u001b[0m \u001b[38;5;66;03m# we empty it and Python list are not thread-safe by\u001b[39;00m\n\u001b[1;32m   1767\u001b[0m \u001b[38;5;66;03m# default hence the use of the lock\u001b[39;00m\n",
      "\u001b[0;31mKeyboardInterrupt\u001b[0m: "
     ]
    }
   ],
   "source": [
    "predictor.eval(X_train, y_train, apply_cv=True)"
   ]
  },
  {
   "cell_type": "code",
   "execution_count": 12,
   "metadata": {},
   "outputs": [
    {
     "data": {
      "text/plain": [
       "{'test_neg_root_mean_squared_error': -39.12015415039393,\n",
       " 'test_neg_mean_absolute_error': -3.873999831861759,\n",
       " 'test_explained_variance': 0.9559878080197036}"
      ]
     },
     "execution_count": 12,
     "metadata": {},
     "output_type": "execute_result"
    }
   ],
   "source": [
    "predictor.eval(X_test, y_test, apply_cv=False)"
   ]
  },
  {
   "cell_type": "code",
   "execution_count": 11,
   "metadata": {},
   "outputs": [
    {
     "data": {
      "text/html": [
       "<div><style>\n",
       ".dataframe > thead > tr,\n",
       ".dataframe > tbody > tr {\n",
       "  text-align: right;\n",
       "  white-space: pre-wrap;\n",
       "}\n",
       "</style>\n",
       "<small>shape: (45_209, 12)</small><table border=\"1\" class=\"dataframe\"><thead><tr><th>category_id</th><th>sku_id</th><th>sales_price</th><th>year</th><th>month</th><th>day</th><th>weekday</th><th>is_ukrainian_holiday</th><th>sma_5_sales_price</th><th>sma_5_sales_quantity</th><th>cluster_id</th><th>prediction</th></tr><tr><td>i64</td><td>i64</td><td>f64</td><td>i32</td><td>i8</td><td>i8</td><td>i8</td><td>bool</td><td>f64</td><td>f64</td><td>i32</td><td>f64</td></tr></thead><tbody><tr><td>7</td><td>484587</td><td>167.7</td><td>2019</td><td>1</td><td>6</td><td>7</td><td>false</td><td>290.545836</td><td>90.8</td><td>2</td><td>2.141637</td></tr><tr><td>7</td><td>459599</td><td>323.7</td><td>2020</td><td>10</td><td>25</td><td>7</td><td>false</td><td>339.837083</td><td>137.0</td><td>2</td><td>1.190591</td></tr><tr><td>17</td><td>318834</td><td>21.84</td><td>2017</td><td>1</td><td>12</td><td>4</td><td>false</td><td>28.95534</td><td>462.8</td><td>4</td><td>2060.10042</td></tr><tr><td>17</td><td>8222</td><td>41.47</td><td>2018</td><td>10</td><td>10</td><td>3</td><td>false</td><td>44.480303</td><td>618.8</td><td>4</td><td>2014.037846</td></tr><tr><td>17</td><td>531313</td><td>30.55</td><td>2018</td><td>1</td><td>5</td><td>5</td><td>false</td><td>37.332686</td><td>492.6</td><td>1</td><td>5.438952</td></tr><tr><td>&hellip;</td><td>&hellip;</td><td>&hellip;</td><td>&hellip;</td><td>&hellip;</td><td>&hellip;</td><td>&hellip;</td><td>&hellip;</td><td>&hellip;</td><td>&hellip;</td><td>&hellip;</td><td>&hellip;</td></tr><tr><td>17</td><td>702116</td><td>31.395</td><td>2018</td><td>5</td><td>23</td><td>3</td><td>false</td><td>41.662624</td><td>561.0</td><td>4</td><td>1998.869389</td></tr><tr><td>17</td><td>8219</td><td>47.06</td><td>2018</td><td>4</td><td>27</td><td>5</td><td>false</td><td>40.670178</td><td>541.8</td><td>1</td><td>4.072234</td></tr><tr><td>17</td><td>605321</td><td>33.8</td><td>2019</td><td>2</td><td>10</td><td>7</td><td>false</td><td>48.657164</td><td>562.6</td><td>0</td><td>3.08384</td></tr><tr><td>17</td><td>8228</td><td>77.922</td><td>2020</td><td>8</td><td>11</td><td>2</td><td>false</td><td>66.049975</td><td>578.0</td><td>0</td><td>2.726241</td></tr><tr><td>17</td><td>589893</td><td>38.22</td><td>2018</td><td>7</td><td>11</td><td>3</td><td>false</td><td>43.091398</td><td>592.4</td><td>4</td><td>2015.204289</td></tr></tbody></table></div>"
      ],
      "text/plain": [
       "shape: (45_209, 12)\n",
       "┌─────────────┬────────┬────────────┬──────┬───┬────────────┬────────────┬────────────┬────────────┐\n",
       "│ category_id ┆ sku_id ┆ sales_pric ┆ year ┆ … ┆ sma_5_sale ┆ sma_5_sale ┆ cluster_id ┆ prediction │\n",
       "│ ---         ┆ ---    ┆ e          ┆ ---  ┆   ┆ s_price    ┆ s_quantity ┆ ---        ┆ ---        │\n",
       "│ i64         ┆ i64    ┆ ---        ┆ i32  ┆   ┆ ---        ┆ ---        ┆ i32        ┆ f64        │\n",
       "│             ┆        ┆ f64        ┆      ┆   ┆ f64        ┆ f64        ┆            ┆            │\n",
       "╞═════════════╪════════╪════════════╪══════╪═══╪════════════╪════════════╪════════════╪════════════╡\n",
       "│ 7           ┆ 484587 ┆ 167.7      ┆ 2019 ┆ … ┆ 290.545836 ┆ 90.8       ┆ 2          ┆ 2.141637   │\n",
       "│ 7           ┆ 459599 ┆ 323.7      ┆ 2020 ┆ … ┆ 339.837083 ┆ 137.0      ┆ 2          ┆ 1.190591   │\n",
       "│ 17          ┆ 318834 ┆ 21.84      ┆ 2017 ┆ … ┆ 28.95534   ┆ 462.8      ┆ 4          ┆ 2060.10042 │\n",
       "│ 17          ┆ 8222   ┆ 41.47      ┆ 2018 ┆ … ┆ 44.480303  ┆ 618.8      ┆ 4          ┆ 2014.03784 │\n",
       "│             ┆        ┆            ┆      ┆   ┆            ┆            ┆            ┆ 6          │\n",
       "│ 17          ┆ 531313 ┆ 30.55      ┆ 2018 ┆ … ┆ 37.332686  ┆ 492.6      ┆ 1          ┆ 5.438952   │\n",
       "│ …           ┆ …      ┆ …          ┆ …    ┆ … ┆ …          ┆ …          ┆ …          ┆ …          │\n",
       "│ 17          ┆ 702116 ┆ 31.395     ┆ 2018 ┆ … ┆ 41.662624  ┆ 561.0      ┆ 4          ┆ 1998.86938 │\n",
       "│             ┆        ┆            ┆      ┆   ┆            ┆            ┆            ┆ 9          │\n",
       "│ 17          ┆ 8219   ┆ 47.06      ┆ 2018 ┆ … ┆ 40.670178  ┆ 541.8      ┆ 1          ┆ 4.072234   │\n",
       "│ 17          ┆ 605321 ┆ 33.8       ┆ 2019 ┆ … ┆ 48.657164  ┆ 562.6      ┆ 0          ┆ 3.08384    │\n",
       "│ 17          ┆ 8228   ┆ 77.922     ┆ 2020 ┆ … ┆ 66.049975  ┆ 578.0      ┆ 0          ┆ 2.726241   │\n",
       "│ 17          ┆ 589893 ┆ 38.22      ┆ 2018 ┆ … ┆ 43.091398  ┆ 592.4      ┆ 4          ┆ 2015.20428 │\n",
       "│             ┆        ┆            ┆      ┆   ┆            ┆            ┆            ┆ 9          │\n",
       "└─────────────┴────────┴────────────┴──────┴───┴────────────┴────────────┴────────────┴────────────┘"
      ]
     },
     "execution_count": 11,
     "metadata": {},
     "output_type": "execute_result"
    }
   ],
   "source": [
    "predicted = predictor.predict(X_test)\n",
    "\n",
    "X_test.with_columns(predicted)"
   ]
  },
  {
   "cell_type": "code",
   "execution_count": 18,
   "metadata": {},
   "outputs": [
    {
     "data": {
      "text/html": [
       "<div><style>\n",
       ".dataframe > thead > tr,\n",
       ".dataframe > tbody > tr {\n",
       "  text-align: right;\n",
       "  white-space: pre-wrap;\n",
       "}\n",
       "</style>\n",
       "<small>shape: (11_368, 9)</small><table border=\"1\" class=\"dataframe\"><thead><tr><th>category_id</th><th>sku_id</th><th>sales_price</th><th>year</th><th>month</th><th>day</th><th>weekday</th><th>is_ukrainian_holiday</th><th>date</th></tr><tr><td>i64</td><td>i64</td><td>f64</td><td>i32</td><td>i8</td><td>i8</td><td>i8</td><td>bool</td><td>date</td></tr></thead><tbody><tr><td>7</td><td>695424</td><td>1493.7</td><td>2020</td><td>11</td><td>7</td><td>6</td><td>false</td><td>2020-11-07</td></tr><tr><td>7</td><td>746872</td><td>187.2</td><td>2020</td><td>11</td><td>11</td><td>3</td><td>false</td><td>2020-11-11</td></tr><tr><td>7</td><td>440748</td><td>258.7</td><td>2020</td><td>11</td><td>9</td><td>1</td><td>false</td><td>2020-11-09</td></tr><tr><td>7</td><td>752709</td><td>388.7</td><td>2020</td><td>11</td><td>4</td><td>3</td><td>false</td><td>2020-11-04</td></tr><tr><td>7</td><td>630972</td><td>973.7</td><td>2020</td><td>11</td><td>10</td><td>2</td><td>false</td><td>2020-11-10</td></tr><tr><td>&hellip;</td><td>&hellip;</td><td>&hellip;</td><td>&hellip;</td><td>&hellip;</td><td>&hellip;</td><td>&hellip;</td><td>&hellip;</td><td>&hellip;</td></tr><tr><td>7</td><td>621633</td><td>707.2</td><td>2020</td><td>11</td><td>3</td><td>2</td><td>false</td><td>2020-11-03</td></tr><tr><td>7</td><td>674270</td><td>362.7</td><td>2020</td><td>11</td><td>2</td><td>1</td><td>false</td><td>2020-11-02</td></tr><tr><td>7</td><td>484594</td><td>116.22</td><td>2020</td><td>11</td><td>7</td><td>6</td><td>false</td><td>2020-11-07</td></tr><tr><td>17</td><td>801559</td><td>62.322</td><td>2020</td><td>11</td><td>7</td><td>6</td><td>false</td><td>2020-11-07</td></tr><tr><td>17</td><td>318629</td><td>58.5</td><td>2020</td><td>11</td><td>12</td><td>4</td><td>false</td><td>2020-11-12</td></tr></tbody></table></div>"
      ],
      "text/plain": [
       "shape: (11_368, 9)\n",
       "┌─────────────┬────────┬─────────────┬──────┬───┬─────┬─────────┬─────────────────────┬────────────┐\n",
       "│ category_id ┆ sku_id ┆ sales_price ┆ year ┆ … ┆ day ┆ weekday ┆ is_ukrainian_holida ┆ date       │\n",
       "│ ---         ┆ ---    ┆ ---         ┆ ---  ┆   ┆ --- ┆ ---     ┆ y                   ┆ ---        │\n",
       "│ i64         ┆ i64    ┆ f64         ┆ i32  ┆   ┆ i8  ┆ i8      ┆ ---                 ┆ date       │\n",
       "│             ┆        ┆             ┆      ┆   ┆     ┆         ┆ bool                ┆            │\n",
       "╞═════════════╪════════╪═════════════╪══════╪═══╪═════╪═════════╪═════════════════════╪════════════╡\n",
       "│ 7           ┆ 695424 ┆ 1493.7      ┆ 2020 ┆ … ┆ 7   ┆ 6       ┆ false               ┆ 2020-11-07 │\n",
       "│ 7           ┆ 746872 ┆ 187.2       ┆ 2020 ┆ … ┆ 11  ┆ 3       ┆ false               ┆ 2020-11-11 │\n",
       "│ 7           ┆ 440748 ┆ 258.7       ┆ 2020 ┆ … ┆ 9   ┆ 1       ┆ false               ┆ 2020-11-09 │\n",
       "│ 7           ┆ 752709 ┆ 388.7       ┆ 2020 ┆ … ┆ 4   ┆ 3       ┆ false               ┆ 2020-11-04 │\n",
       "│ 7           ┆ 630972 ┆ 973.7       ┆ 2020 ┆ … ┆ 10  ┆ 2       ┆ false               ┆ 2020-11-10 │\n",
       "│ …           ┆ …      ┆ …           ┆ …    ┆ … ┆ …   ┆ …       ┆ …                   ┆ …          │\n",
       "│ 7           ┆ 621633 ┆ 707.2       ┆ 2020 ┆ … ┆ 3   ┆ 2       ┆ false               ┆ 2020-11-03 │\n",
       "│ 7           ┆ 674270 ┆ 362.7       ┆ 2020 ┆ … ┆ 2   ┆ 1       ┆ false               ┆ 2020-11-02 │\n",
       "│ 7           ┆ 484594 ┆ 116.22      ┆ 2020 ┆ … ┆ 7   ┆ 6       ┆ false               ┆ 2020-11-07 │\n",
       "│ 17          ┆ 801559 ┆ 62.322      ┆ 2020 ┆ … ┆ 7   ┆ 6       ┆ false               ┆ 2020-11-07 │\n",
       "│ 17          ┆ 318629 ┆ 58.5        ┆ 2020 ┆ … ┆ 12  ┆ 4       ┆ false               ┆ 2020-11-12 │\n",
       "└─────────────┴────────┴─────────────┴──────┴───┴─────┴─────────┴─────────────────────┴────────────┘"
      ]
     },
     "execution_count": 18,
     "metadata": {},
     "output_type": "execute_result"
    }
   ],
   "source": [
    "test = DatasetGenerator(\n",
    "    '../data/df_future.csv', \n",
    "    generate_lags=False,\n",
    "    remove_nulls=False,\n",
    "    generate_clusters=False,\n",
    "    generate_sma=False\n",
    ")\n",
    "x, _ = test.get_full_train_data()\n",
    "x = x.with_columns(pl.date(pl.col('year'), pl.col('month'), pl.col('day')))\n",
    "x"
   ]
  },
  {
   "cell_type": "markdown",
   "metadata": {},
   "source": [
    "- We need somehow to calculate lags and other rolling features for the test dataset. \n",
    "- Idea is to simmulate realtime stream and get those values one by one. Also use model prediction as real quantity (it is not the best solution, but for the purpose of this research would be ok).\n",
    "- This current solution implementation is too slow and need to be improved\n",
    "- In production environment real time data are always available, so the calculation of lags and other similar features would be easy and fast"
   ]
  },
  {
   "cell_type": "code",
   "execution_count": 22,
   "metadata": {},
   "outputs": [],
   "source": [
    "testing_set = X_test.select('category_id', 'sku_id', 'sales_price', 'year', 'month', 'day', 'weekday', 'is_ukrainian_holiday').with_columns(\n",
    "    pl.date(pl.col('year'), pl.col('month'), pl.col('day'))\n",
    ")"
   ]
  },
  {
   "cell_type": "code",
   "execution_count": 23,
   "metadata": {},
   "outputs": [],
   "source": [
    "t_pool, y = generator.get_full_train_data()\n",
    "t_pool = t_pool.with_columns(y)\n",
    "t_pool = t_pool.with_columns(pl.date(pl.col('year'), pl.col('month'), pl.col('day')))\n",
    "\n",
    "def augment_raw_sample(sample: Dict[str, Any]) -> Dict[str, Any]:\n",
    "    closest_rows = t_pool.group_by(['sku_id', 'date']).agg(\n",
    "        pl.col('sales_price').mean(),\n",
    "        pl.col('sales_quantity').sum()\n",
    "    ).filter(\n",
    "        pl.col('sku_id') == sample['sku_id'],\n",
    "        pl.col('date') <= sample['date']\n",
    "    ).sort('date', descending=True).head(DatasetGenerator.NUM_LAGS).select(\n",
    "        'sales_price', 'sales_quantity'\n",
    "    )\n",
    "    for idx in range(1, 4):\n",
    "        sample[f'lag_{idx}_sales_price'] = None\n",
    "        sample[f'lag_{idx}_sales_quantity'] = None\n",
    "\n",
    "    for idx, (sales_price, sales_quantity) in enumerate(closest_rows.iter_rows()):\n",
    "        sample[f'lag_{idx+1}_sales_price'] = sales_price\n",
    "        sample[f'lag_{idx+1}_sales_quantity'] = sales_quantity\n",
    "    \n",
    "    # same for category for sma5 calculation\n",
    "    closest_rows = t_pool.group_by(['category_id', 'date']).agg(\n",
    "        pl.col('sales_price').mean(),\n",
    "        pl.col('sales_quantity').sum()\n",
    "    ).filter(\n",
    "        pl.col('category_id') == sample['category_id'],\n",
    "        pl.col('date') <= sample['date']\n",
    "    ).sort('date', descending=True).head(DatasetGenerator.WINDOW_SIZE).select(\n",
    "        'sales_price', 'sales_quantity'\n",
    "    )\n",
    "    sample['sma_5_sales_price'] = closest_rows['sales_price'].mean()\n",
    "    sample['sma_5_sales_quantity'] = closest_rows['sales_quantity'].mean()\n",
    "    if None in sample.values():\n",
    "        sample['cluster_id'] = None\n",
    "    else:\n",
    "        features = pl.DataFrame(sample).select(generator.cluster_generator.feature_names_in_)\n",
    "        cluster = generator.cluster_generator.predict(features)\n",
    "        sample['cluster_id'] = cluster\n",
    "    return sample\n"
   ]
  },
  {
   "cell_type": "code",
   "execution_count": 24,
   "metadata": {},
   "outputs": [
    {
     "name": "stderr",
     "output_type": "stream",
     "text": [
      "906it [51:52,  3.44s/it]\n"
     ]
    }
   ],
   "source": [
    "for sku_id, group in tqdm(testing_set.group_by(['sku_id'])):\n",
    "    for sample in group.sort(by='date').iter_rows():\n",
    "        sample = dict(zip(group.columns, sample))\n",
    "        sample = augment_raw_sample(sample)\n",
    "        quantity = predictor.predict_single_sample(sample)\n",
    "        sample['sales_quantity'] = quantity\n",
    "        row = pl.DataFrame([sample]).with_columns(\n",
    "            pl.col('cluster_id').cast(pl.Int32),\n",
    "            pl.col('year').cast(pl.Int32),\n",
    "            pl.col('month').cast(pl.Int8),\n",
    "            pl.col('day').cast(pl.Int8),\n",
    "            pl.col('weekday').cast(pl.Int8)\n",
    "        ).select(t_pool.columns)\n",
    "        t_pool = t_pool.vstack(row)"
   ]
  },
  {
   "cell_type": "code",
   "execution_count": 51,
   "metadata": {},
   "outputs": [
    {
     "data": {
      "text/html": [
       "<div><style>\n",
       ".dataframe > thead > tr,\n",
       ".dataframe > tbody > tr {\n",
       "  text-align: right;\n",
       "  white-space: pre-wrap;\n",
       "}\n",
       "</style>\n",
       "<small>shape: (44_665, 9)</small><table border=\"1\" class=\"dataframe\"><thead><tr><th>category_id</th><th>sku_id</th><th>sales_price</th><th>year</th><th>month</th><th>day</th><th>weekday</th><th>is_ukrainian_holiday</th><th>date</th></tr><tr><td>i64</td><td>i64</td><td>f64</td><td>i32</td><td>i8</td><td>i8</td><td>i8</td><td>bool</td><td>date</td></tr></thead><tbody><tr><td>17</td><td>8221</td><td>46.8</td><td>2019</td><td>3</td><td>5</td><td>2</td><td>false</td><td>2019-03-05</td></tr><tr><td>7</td><td>484581</td><td>123.487</td><td>2019</td><td>10</td><td>30</td><td>3</td><td>false</td><td>2019-10-30</td></tr><tr><td>17</td><td>750483</td><td>60.45</td><td>2019</td><td>12</td><td>13</td><td>5</td><td>false</td><td>2019-12-13</td></tr><tr><td>17</td><td>24119</td><td>49.335</td><td>2018</td><td>11</td><td>8</td><td>4</td><td>false</td><td>2018-11-08</td></tr><tr><td>17</td><td>32542</td><td>41.6</td><td>2017</td><td>11</td><td>23</td><td>4</td><td>false</td><td>2017-11-23</td></tr><tr><td>&hellip;</td><td>&hellip;</td><td>&hellip;</td><td>&hellip;</td><td>&hellip;</td><td>&hellip;</td><td>&hellip;</td><td>&hellip;</td><td>&hellip;</td></tr><tr><td>7</td><td>654449</td><td>180.7</td><td>2020</td><td>5</td><td>16</td><td>6</td><td>false</td><td>2020-05-16</td></tr><tr><td>17</td><td>589895</td><td>34.775</td><td>2018</td><td>2</td><td>13</td><td>2</td><td>false</td><td>2018-02-13</td></tr><tr><td>17</td><td>824499</td><td>53.3</td><td>2020</td><td>9</td><td>8</td><td>2</td><td>false</td><td>2020-09-08</td></tr><tr><td>17</td><td>798076</td><td>44.85</td><td>2020</td><td>3</td><td>5</td><td>4</td><td>false</td><td>2020-03-05</td></tr><tr><td>17</td><td>24121</td><td>53.3</td><td>2019</td><td>5</td><td>30</td><td>4</td><td>false</td><td>2019-05-30</td></tr></tbody></table></div>"
      ],
      "text/plain": [
       "shape: (44_665, 9)\n",
       "┌─────────────┬────────┬─────────────┬──────┬───┬─────┬─────────┬─────────────────────┬────────────┐\n",
       "│ category_id ┆ sku_id ┆ sales_price ┆ year ┆ … ┆ day ┆ weekday ┆ is_ukrainian_holida ┆ date       │\n",
       "│ ---         ┆ ---    ┆ ---         ┆ ---  ┆   ┆ --- ┆ ---     ┆ y                   ┆ ---        │\n",
       "│ i64         ┆ i64    ┆ f64         ┆ i32  ┆   ┆ i8  ┆ i8      ┆ ---                 ┆ date       │\n",
       "│             ┆        ┆             ┆      ┆   ┆     ┆         ┆ bool                ┆            │\n",
       "╞═════════════╪════════╪═════════════╪══════╪═══╪═════╪═════════╪═════════════════════╪════════════╡\n",
       "│ 17          ┆ 8221   ┆ 46.8        ┆ 2019 ┆ … ┆ 5   ┆ 2       ┆ false               ┆ 2019-03-05 │\n",
       "│ 7           ┆ 484581 ┆ 123.487     ┆ 2019 ┆ … ┆ 30  ┆ 3       ┆ false               ┆ 2019-10-30 │\n",
       "│ 17          ┆ 750483 ┆ 60.45       ┆ 2019 ┆ … ┆ 13  ┆ 5       ┆ false               ┆ 2019-12-13 │\n",
       "│ 17          ┆ 24119  ┆ 49.335      ┆ 2018 ┆ … ┆ 8   ┆ 4       ┆ false               ┆ 2018-11-08 │\n",
       "│ 17          ┆ 32542  ┆ 41.6        ┆ 2017 ┆ … ┆ 23  ┆ 4       ┆ false               ┆ 2017-11-23 │\n",
       "│ …           ┆ …      ┆ …           ┆ …    ┆ … ┆ …   ┆ …       ┆ …                   ┆ …          │\n",
       "│ 7           ┆ 654449 ┆ 180.7       ┆ 2020 ┆ … ┆ 16  ┆ 6       ┆ false               ┆ 2020-05-16 │\n",
       "│ 17          ┆ 589895 ┆ 34.775      ┆ 2018 ┆ … ┆ 13  ┆ 2       ┆ false               ┆ 2018-02-13 │\n",
       "│ 17          ┆ 824499 ┆ 53.3        ┆ 2020 ┆ … ┆ 8   ┆ 2       ┆ false               ┆ 2020-09-08 │\n",
       "│ 17          ┆ 798076 ┆ 44.85       ┆ 2020 ┆ … ┆ 5   ┆ 4       ┆ false               ┆ 2020-03-05 │\n",
       "│ 17          ┆ 24121  ┆ 53.3        ┆ 2019 ┆ … ┆ 30  ┆ 4       ┆ false               ┆ 2019-05-30 │\n",
       "└─────────────┴────────┴─────────────┴──────┴───┴─────┴─────────┴─────────────────────┴────────────┘"
      ]
     },
     "execution_count": 51,
     "metadata": {},
     "output_type": "execute_result"
    }
   ],
   "source": [
    "testing_set"
   ]
  },
  {
   "cell_type": "code",
   "execution_count": 56,
   "metadata": {},
   "outputs": [],
   "source": [
    "values = X_test.with_columns(y_test).select(\n",
    "    'category_id', 'sku_id', 'sales_price', 'year', 'month', 'day', 'weekday', 'is_ukrainian_holiday',\n",
    "    'sales_quantity'\n",
    ")"
   ]
  },
  {
   "cell_type": "code",
   "execution_count": 60,
   "metadata": {},
   "outputs": [],
   "source": [
    "tx, ty = generator.get_full_train_data()\n",
    "tx = tx.with_columns(ty).with_columns(pl.date(pl.col('year'), pl.col('month'), pl.col('day')))\n",
    "\n",
    "result = t_pool.join(tx, on=t_pool.columns, how=\"anti\").rename({\n",
    "    'sales_quantity': 'predicted'\n",
    "}).join(values, on=['category_id', 'sku_id', 'sales_price', 'year', 'month', 'day', 'weekday', 'is_ukrainian_holiday'])"
   ]
  },
  {
   "cell_type": "code",
   "execution_count": 64,
   "metadata": {},
   "outputs": [
    {
     "data": {
      "text/plain": [
       "0.9238967099981493"
      ]
     },
     "execution_count": 64,
     "metadata": {},
     "output_type": "execute_result"
    }
   ],
   "source": [
    "from sklearn.metrics import (\n",
    "    mean_absolute_error,\n",
    "    explained_variance_score,\n",
    "    root_mean_squared_error\n",
    ")\n",
    "\n",
    "\n",
    "mean_absolute_error(result['sales_quantity'], result['predicted'])\n",
    "explained_variance_score(result['sales_quantity'], result['predicted'])"
   ]
  },
  {
   "cell_type": "markdown",
   "metadata": {},
   "source": [
    "### Lgbm model"
   ]
  },
  {
   "cell_type": "code",
   "execution_count": 14,
   "metadata": {},
   "outputs": [
    {
     "name": "stdout",
     "output_type": "stream",
     "text": [
      "Model already trained. Skipping...\n"
     ]
    }
   ],
   "source": [
    "predictor = LgbmPredictor()\n",
    "predictor.train(X_train, y_train)"
   ]
  }
 ],
 "metadata": {
  "kernelspec": {
   "display_name": "sales-prediction",
   "language": "python",
   "name": "python3"
  },
  "language_info": {
   "codemirror_mode": {
    "name": "ipython",
    "version": 3
   },
   "file_extension": ".py",
   "mimetype": "text/x-python",
   "name": "python",
   "nbconvert_exporter": "python",
   "pygments_lexer": "ipython3",
   "version": "3.11.9"
  }
 },
 "nbformat": 4,
 "nbformat_minor": 2
}
